{
 "cells": [
  {
   "cell_type": "markdown",
   "metadata": {
    "id": "EQ-2Cd05GfEu"
   },
   "source": [
    "<div style=\"width: 100%; clear: both;\">\n",
    "\n",
    "<div style=\"float: left; width: 50%;\">\n",
    "\n",
    "<img src=\"http://www.uoc.edu/portal/_resources/common/imatges/marca_UOC/UOC_Masterbrand.jpg\" align=\"left\">\n",
    "\n",
    "</div>\n",
    "\n",
    "<div style=\"float: right; width: 50%;\">\n",
    "\n",
    "<p style=\"margin: 0; padding-top: 22px; text-align:right;\">M2.991 · Aprenentatge automàtic · PAC4</p>\n",
    "\n",
    "<p style=\"margin: 0; text-align:right;\">2024-2 · Màster universitari en Ciència de dades (Data science)</p>\n",
    "\n",
    "<p style=\"margin: 0; text-align:right; padding-button: 100px;\">Estudis d'Informàtica, Multimèdia i Telecomunicació</p>\n",
    "\n",
    "</div>\n",
    "\n",
    "</div>\n",
    "\n",
    "<div style=\"width:100%;\">&nbsp;</div>"
   ]
  },
  {
   "cell_type": "markdown",
   "metadata": {},
   "source": [
    "# **PAC 4: Combinació de Models**\n",
    "\n",
    "## Objectiu\n",
    "Aquesta quarta Pràctica d'Avaluació Contínua (PAC 4) té com a objectiu principal consolidar els coneixements adquirits a les PAC anteriors (introducció a l'aprenentatge automàtic, anàlisi exploratòria de dades, mètodes supervisats i no supervisats) i introduir i aprofundir en tècniques avançades d'Ensemble Learning (Aprenentatge per Conjunts).\n",
    "\n",
    "En finalitzar aquesta PAC, hauries de ser capaç de:\n",
    "\n",
    "* Implementar i comparar diverses tècniques d'ensemble learning (p. ex., Bagging/Random Forest, Boosting -AdaBoost, Gradient Boosting-, i Stacking) sobre un conjunt de dades específic.\n",
    "* Analitzar i explicar com els hiperparàmetres clau dels mètodes ensemble influeixen en el seu comportament i rendiment.\n",
    "* Avaluar i comparar la importància de les característiques (feature importance) obtinguda a través de diferents models ensemble.\n",
    "* Justificar quan i per què un mètode ensemble podria ser preferible a un altre, o a un model individual (connectant amb conceptes com el trade-off biaix-variància).\n",
    "* Aplicar correctament metodologies de validació (com la validació creuada) per a l'avaluació i comparació robusta dels models ensemble.\n",
    "\n",
    "## Conjunt de dades\n",
    "Treballaràs amb dos conjunts de dades sintètics, generats específicament per a aquesta pràctica: un per a un problema de classificació multiclase i un altre per a un problema de regressió. Ambdós datasets han estat dissenyats per incloure diverses complexitats (com desequilibri de classes, relacions no lineals, interaccions entre variables, soroll, variables irrellevants, etc.) que posaran a prova les capacitats de diferents algorismes.\n",
    "\n",
    "L'objectiu no és només implementar els algorismes, sinó sobretot analitzar en profunditat el seu comportament, comparar els seus resultats i justificar les teves conclusions basant-te sempre en l'evidència obtinguda dels teus propis experiments i resultats numèrics/gràfics. Es valorarà especialment la capacitat crítica i la profunditat de les teves interpretacions."
   ]
  },
  {
   "cell_type": "code",
   "execution_count": null,
   "metadata": {},
   "outputs": [],
   "source": []
  },
  {
   "cell_type": "markdown",
   "metadata": {
    "id": "zDpnuGAqKhr9"
   },
   "source": [
    "<div class=\"alert alert-block alert-info\">\n",
    "<strong>Nom i cognoms:</strong>\n",
    "</div>"
   ]
  },
  {
   "cell_type": "code",
   "execution_count": null,
   "metadata": {},
   "outputs": [],
   "source": []
  },
  {
   "cell_type": "markdown",
   "metadata": {
    "id": "yGStOSRTbHsO"
   },
   "source": [
    "## 1. Combinació de models de Classificació (6 punts)\n",
    "\n",
    "### 1.1. Càrrega i Anàlisi Exploratòria de Dades -EDA- (0.5 punts)"
   ]
  },
  {
   "cell_type": "markdown",
   "metadata": {
    "jp-MarkdownHeadingCollapsed": true
   },
   "source": [
    "<div class=\"alert alert-block alert-info\">\n",
    "<h4>Implementació:</h4>\n",
    "\n",
    "1. Carrega el dataset <code>dataset_clasificacion_pec4.csv</code>.\n",
    "2. Realitza una exploració inicial: revisa la informació general, identifica els tipus de dades, valors mancants, outliers, anàlisi de correlacions, etc.\n",
    "</div>"
   ]
  },
  {
   "cell_type": "markdown",
   "metadata": {
    "id": "LF9_DgWdEMvh"
   },
   "source": [
    "<div class=\"alert alert-block alert-danger\">\n",
    "<h4>Solució:</h4>\n",
    "</div>"
   ]
  },
  {
   "cell_type": "code",
   "execution_count": 8,
   "metadata": {},
   "outputs": [],
   "source": [
    "# Escriu aquí el teu codi, fes servir tantes cel·les com creguis convenients"
   ]
  },
  {
   "cell_type": "markdown",
   "metadata": {},
   "source": [
    "<div class=\"alert alert-block alert-success\">\n",
    "<h4>Anàlisi:</h4>  \n",
    "\n",
    "Comenta dins d'aquesta cel·la la teva anàlisi crítica, fes servir tantes cel·les com creguis convenient.\n",
    "\n",
    "</div>"
   ]
  },
  {
   "cell_type": "markdown",
   "metadata": {
    "jp-MarkdownHeadingCollapsed": true
   },
   "source": [
    "<div class=\"alert alert-block alert-info\">\n",
    "<h4>Implementació:</h4>\n",
    "\n",
    "3. Aplicar una estratègia de codificació adequada per poder fer servir les variables categòriques en els models. Justifica la teva elecció.\n",
    "</div>"
   ]
  },
  {
   "cell_type": "markdown",
   "metadata": {
    "id": "LF9_DgWdEMvh"
   },
   "source": [
    "<div class=\"alert alert-block alert-danger\">\n",
    "<h4>Solució:</h4>\n",
    "</div>"
   ]
  },
  {
   "cell_type": "code",
   "execution_count": 8,
   "metadata": {},
   "outputs": [],
   "source": [
    "# Escriu aquí el teu codi, fes servir tantes cel·les com creguis convenients"
   ]
  },
  {
   "cell_type": "markdown",
   "metadata": {},
   "source": [
    "<div class=\"alert alert-block alert-success\">\n",
    "<h4>Anàlisi:</h4>  \n",
    "\n",
    "Comenta dins d'aquesta cel·la la teva anàlisi crítica, fes servir tantes cel·les com creguis convenient.\n",
    "\n",
    "</div>"
   ]
  },
  {
   "cell_type": "markdown",
   "metadata": {
    "jp-MarkdownHeadingCollapsed": true
   },
   "source": [
    "<div class=\"alert alert-block alert-info\">\n",
    "<h4>Implementació:</h4>\n",
    "\n",
    "4. Analitza la distribució de la variable objectiu (<code>target</code>). Visualitza-la (ex., <code>countplot</code>) i comenta explícitament sobre el grau de desequilibri entre classes.\n",
    "</div>"
   ]
  },
  {
   "cell_type": "markdown",
   "metadata": {
    "id": "LF9_DgWdEMvh"
   },
   "source": [
    "<div class=\"alert alert-block alert-danger\">\n",
    "<h4>Solució:</h4>\n",
    "</div>"
   ]
  },
  {
   "cell_type": "code",
   "execution_count": 8,
   "metadata": {},
   "outputs": [],
   "source": [
    "# Escriu aquí el teu codi, fes servir tantes cel·les com creguis convenients"
   ]
  },
  {
   "cell_type": "markdown",
   "metadata": {},
   "source": [
    "<div class=\"alert alert-block alert-success\">\n",
    "<h4>Anàlisi:</h4>  \n",
    "\n",
    "Comenta dins d'aquesta cel·la la teva anàlisi crítica, fes servir tantes cel·les com creguis convenient.\n",
    "\n",
    "</div>"
   ]
  },
  {
   "cell_type": "markdown",
   "metadata": {},
   "source": [
    "<div class=\"alert alert-block alert-info\">\n",
    "<h4>Implementació:</h4>\n",
    "\n",
    "5. Selecciona una variable numèrica i una variable categòrica que, després de la teva exploració inicial, consideris potencialment influents per a predir la variable objectiu. Justifica la teva elecció.\n",
    "6. Visualitza la distribució de les variables seleccionades separant-les per classe. Comenta els patrons o diferències que observes.\n",
    "&nbsp; &nbsp;\n",
    "</div>"
   ]
  },
  {
   "cell_type": "markdown",
   "metadata": {
    "id": "LF9_DgWdEMvh"
   },
   "source": [
    "<div class=\"alert alert-block alert-danger\">\n",
    "<h4>Solució:</h4>\n",
    "</div>"
   ]
  },
  {
   "cell_type": "code",
   "execution_count": 8,
   "metadata": {},
   "outputs": [],
   "source": [
    "# Escriu aquí el teu codi, fes servir tantes cel·les com creguis convenients"
   ]
  },
  {
   "cell_type": "markdown",
   "metadata": {},
   "source": [
    "<div class=\"alert alert-block alert-success\">\n",
    "<h4>Anàlisi:</h4>  \n",
    "\n",
    "Comenta dins d'aquesta cel·la la teva anàlisi crítica, fes servir tantes cel·les com creguis convenient.\n",
    "\n",
    "</div>"
   ]
  },
  {
   "cell_type": "markdown",
   "metadata": {},
   "source": [
    "<div class=\"alert alert-block alert-info\">\n",
    "<h4>Implementació:</h4>\n",
    "\n",
    "7. **Anàlisi Crítica:** Basant-te únicament en les troballes de la teva EDA (distribució de classes, tipus de variables, etc.), discuteix els principals desafiaments que anticipes que aquest dataset podria presentar per als algorismes de classificació estàndard. Com creus que el desequilibri observat podria afectar l'avaluació del rendiment?\n",
    "8. D'acord amb l'anterior, realitza el que consideris necessari per preparar les dades per efectuar el procés de classificació de forma adequada. Recorda prendre les mesures necessàries per evitar biaixos, sobreajustament, fuga de dades, etc. Justifica cadascuna de les decisions preses.\n",
    "&nbsp; &nbsp;\n",
    "</div>"
   ]
  },
  {
   "cell_type": "markdown",
   "metadata": {
    "id": "LF9_DgWdEMvh"
   },
   "source": [
    "<div class=\"alert alert-block alert-danger\">\n",
    "<h4>Solució:</h4>\n",
    "</div>"
   ]
  },
  {
   "cell_type": "code",
   "execution_count": 8,
   "metadata": {},
   "outputs": [],
   "source": [
    "# Escriu aquí el teu codi, fes servir tantes cel·les com creguis convenients"
   ]
  },
  {
   "cell_type": "markdown",
   "metadata": {},
   "source": [
    "<div class=\"alert alert-block alert-success\">\n",
    "<h4>Anàlisi:</h4>  \n",
    "\n",
    "Comenta dins d'aquesta cel·la la teva anàlisi crítica, fes servir tantes cel·les com creguis convenient.\n",
    "\n",
    "</div>"
   ]
  },
  {
   "cell_type": "markdown",
   "metadata": {},
   "source": [
    "### 1.2. Entrenament i Avaluació de Models Base (0.5 punts)"
   ]
  },
  {
   "cell_type": "markdown",
   "metadata": {
    "jp-MarkdownHeadingCollapsed": true
   },
   "source": [
    "<div class=\"alert alert-block alert-info\">\n",
    "<h4>Implementació:</h4>\n",
    "\n",
    "1. Entrena amb el conjunt de dades d'entrenament i valida amb el conjunt de dades de validació els següents models base (Guarda les prediccions per al seu ús més endavant):\n",
    "   * Regressió Logística (`LogisticRegression`)\n",
    "   * Arbre de Decisió (`DecisionTreeClassifier`)\n",
    "   * K veïns més propers (`KNeighborsClassifier`)\n",
    "   * Classificador Naive Bayes (`GaussianNB`)\n",
    "2. Per a cada model, reporta les següents mètriques obtingudes de la validació: Precision macro / recall macro / F1 macro (mitjana simple entre classes), Precision weighted / F1 weighted (mitjana ponderada segons el nombre de mostres per classe), F1 micro (mètrica total). Mostra també la matriu de confusió.\n",
    "3. **Anàlisi Crítica:** Estableix aquests resultats com la teva línia base (baseline). Quina de les mètriques F1 (macro o weighted) consideres més informativa per avaluar el rendiment en aquest dataset específic i per què? Justifica la teva resposta relacionant-la amb el desequilibri de classes observat a la teva EDA. Comenta breument el rendiment d'aquests models base, parant especial atenció a com funcionen per a les classes minoritàries (observa les teves matrius de confusió).\n",
    "\n",
    "</div>"
   ]
  },
  {
   "cell_type": "markdown",
   "metadata": {
    "id": "LF9_DgWdEMvh"
   },
   "source": [
    "<div class=\"alert alert-block alert-danger\">\n",
    "<h4>Solució:</h4>\n",
    "</div>"
   ]
  },
  {
   "cell_type": "code",
   "execution_count": 8,
   "metadata": {},
   "outputs": [],
   "source": [
    "# Escriu aquí el teu codi, fes servir tantes cel·les com creguis convenients"
   ]
  },
  {
   "cell_type": "markdown",
   "metadata": {},
   "source": [
    "<div class=\"alert alert-block alert-success\">\n",
    "<h4>Anàlisi:</h4>  \n",
    "\n",
    "Comenta dins d'aquesta cel·la la teva anàlisi crítica, fes servir tantes cel·les com creguis convenient.\n",
    "\n",
    "</div>"
   ]
  },
  {
   "cell_type": "markdown",
   "metadata": {},
   "source": [
    "### 1.3. Combinació paral·lela de classificadors de base similar: Bagging (1 punt)"
   ]
  },
  {
   "cell_type": "markdown",
   "metadata": {
    "jp-MarkdownHeadingCollapsed": true
   },
   "source": [
    "<div class=\"alert alert-block alert-info\">\n",
    "<h4>Implementació:</h4>\n",
    "\n",
    "1. Implementa `RandomForestClassifier`.\n",
    "2. Realitza una cerca i ajust (tuning) d'hiperparàmetres clau (n_estimators, max_depth, max_features) utilitzant validació creuada (ex., GridSearchCV o RandomizedSearchCV amb 5-CV). Defineix un rang de cerca raonable per a cada hiperparàmetre i fes servir la mètrica F1 que vas justificar com a més informativa en el punt anterior per a l'optimització.\n",
    "3. Reporta els millors hiperparàmetres trobats i l'score de validació creuada obtingut amb ells.\n",
    "</div>"
   ]
  },
  {
   "cell_type": "markdown",
   "metadata": {
    "id": "LF9_DgWdEMvh"
   },
   "source": [
    "<div class=\"alert alert-block alert-danger\">\n",
    "<h4>Solució:</h4>\n",
    "</div>"
   ]
  },
  {
   "cell_type": "code",
   "execution_count": 8,
   "metadata": {},
   "outputs": [],
   "source": [
    "# Escriu aquí el teu codi, fes servir tantes cel·les com creguis convenients"
   ]
  },
  {
   "cell_type": "markdown",
   "metadata": {},
   "source": [
    "<div class=\"alert alert-block alert-success\">\n",
    "<h4>Anàlisi:</h4>  \n",
    "\n",
    "Comenta dins d'aquesta cel·la la teva anàlisi crítica, fes servir tantes cel·les com creguis convenient.\n",
    "\n",
    "</div>"
   ]
  },
  {
   "cell_type": "markdown",
   "metadata": {
    "jp-MarkdownHeadingCollapsed": true
   },
   "source": [
    "<div class=\"alert alert-block alert-info\">\n",
    "<h4>Implementació:</h4>\n",
    "\n",
    "4. Valida (amb el conjunt de dades de validació) el model Random Forest final (entrenat amb els millors hiperparàmetres sobre tot el conjunt d'entrenament).\n",
    "5. Mostra un gràfic de la importància de les característiques (feature_importance_) del model final.\n",
    "6. **Anàlisi Crítica:** Compara el rendiment del teu Random Forest optimitzat amb els models base (refereix-te als valors específics de les mètriques que vas obtenir). Va aconseguir RF una millora substancial, especialment en les classes minoritàries? Analitza el teu gràfic d'importància de característiques: Quines variables semblen ser les més rellevants segons RF? Té sentit aquest resultat considerant que el dataset és sintètic i es va dissenyar amb variables informatives, redundants i irrellevants? Identifica RF algunes de les variables categòriques o d'interacció que vam afegir com a importants?\n",
    "</div>"
   ]
  },
  {
   "cell_type": "markdown",
   "metadata": {
    "id": "LF9_DgWdEMvh"
   },
   "source": [
    "<div class=\"alert alert-block alert-danger\">\n",
    "<h4>Solució:</h4>\n",
    "</div>"
   ]
  },
  {
   "cell_type": "code",
   "execution_count": 8,
   "metadata": {},
   "outputs": [],
   "source": [
    "# Escriu aquí el teu codi, fes servir tantes cel·les com creguis convenients"
   ]
  },
  {
   "cell_type": "markdown",
   "metadata": {},
   "source": [
    "<div class=\"alert alert-block alert-success\">\n",
    "<h4>Anàlisi:</h4>  \n",
    "\n",
    "Comenta dins d'aquesta cel·la la teva anàlisi crítica, fes servir tantes cel·les com creguis convenient.\n",
    "\n",
    "</div>"
   ]
  },
  {
   "cell_type": "markdown",
   "metadata": {},
   "source": [
    "### 1.4. Combinació paral·lela de classificadors de base similar: Boosting (1 punt)"
   ]
  },
  {
   "cell_type": "markdown",
   "metadata": {
    "jp-MarkdownHeadingCollapsed": true
   },
   "source": [
    "<div class=\"alert alert-block alert-info\">\n",
    "<h4>Implementació:</h4>\n",
    "\n",
    "1. Implementa `GradientBoostingClassifier`.\n",
    "2. Realitza una cerca i ajust (tuning) d'hiperparàmetres clau utilitzant validació creuada. Defineix un rang de cerca raonable per a cada hiperparàmetre i fes servir la mètrica F1 seleccionada.\n",
    "3. Reporta els millors hiperparàmetres trobats i l'score de validació creuada obtingut amb ells.\n",
    "</div>"
   ]
  },
  {
   "cell_type": "markdown",
   "metadata": {
    "id": "LF9_DgWdEMvh"
   },
   "source": [
    "<div class=\"alert alert-block alert-danger\">\n",
    "<h4>Solució:</h4>\n",
    "</div>"
   ]
  },
  {
   "cell_type": "code",
   "execution_count": 8,
   "metadata": {},
   "outputs": [],
   "source": [
    "# Escriu aquí el teu codi, fes servir tantes cel·les com creguis convenients"
   ]
  },
  {
   "cell_type": "markdown",
   "metadata": {},
   "source": [
    "<div class=\"alert alert-block alert-success\">\n",
    "<h4>Anàlisi:</h4>  \n",
    "\n",
    "Comenta dins d'aquesta cel·la la teva anàlisi crítica, fes servir tantes cel·les com creguis convenient.\n",
    "\n",
    "</div>"
   ]
  },
  {
   "cell_type": "markdown",
   "metadata": {
    "jp-MarkdownHeadingCollapsed": true
   },
   "source": [
    "<div class=\"alert alert-block alert-info\">\n",
    "<h4>Implementació:</h4>\n",
    "\n",
    "4. Valida (amb el conjunt de dades de validació) el model final.\n",
    "5. Mostra un gràfic de la importància de les característiques d'aquest model.\n",
    "6. **Anàlisi Crítica:** Compara el rendiment del teu Gradient Boosting optimitzat amb els models anteriors. Va aconseguir una millora substancial, especialment en les classes minoritàries? Analitza el teu gràfic d'importància de característiques: Existeixen diferències notables en el rànquing o en les variables considerades més importants pels models boosting en comparació amb Random Forest\n",
    "</div>"
   ]
  },
  {
   "cell_type": "markdown",
   "metadata": {
    "id": "LF9_DgWdEMvh"
   },
   "source": [
    "<div class=\"alert alert-block alert-danger\">\n",
    "<h4>Solució:</h4>\n",
    "</div>"
   ]
  },
  {
   "cell_type": "code",
   "execution_count": 8,
   "metadata": {},
   "outputs": [],
   "source": [
    "# Escriu aquí el teu codi, fes servir tantes cel·les com creguis convenients"
   ]
  },
  {
   "cell_type": "markdown",
   "metadata": {},
   "source": [
    "<div class=\"alert alert-block alert-success\">\n",
    "<h4>Anàlisi:</h4>  \n",
    "\n",
    "Comenta dins d'aquesta cel·la la teva anàlisi crítica, fes servir tantes cel·les com creguis convenient.\n",
    "\n",
    "</div>"
   ]
  },
  {
   "cell_type": "markdown",
   "metadata": {},
   "source": [
    "### 1.5. Combinació seqüencial de classificadors de base diferent: Stacking (1 punt)"
   ]
  },
  {
   "cell_type": "markdown",
   "metadata": {
    "jp-MarkdownHeadingCollapsed": true
   },
   "source": [
    "<div class=\"alert alert-block alert-info\">\n",
    "<h4>Implementació:</h4>\n",
    "\n",
    "1. Implementa `StackingClassifier`.\n",
    "2. Utilitza els models base implementats a la secció 1.2 Creus que aquesta combinació de models és diversa i adequada per a Stacking?\n",
    "3. Tria un meta-classificador. Pots optar per fer servir els hiperparàmetres per defecte o realitzar un petit ajust si ho consideres necessari.\n",
    "4. Valida el `StackingClassifier` complet fent servir les dades de validació amb la mètrica F1 seleccionada. Reporta l'score.\n",
    "5. **Anàlisi Crítica:** Compara el rendiment del teu model de Stacking amb el millor resultat que vas obtenir d'un ensemble individual (RF o Boosting) en els passos anteriors. Va aportar Stacking una millora significativa del rendiment en aquest dataset? Explica breument com creus que el meta-classificador està utilitzant les prediccions dels teus base learners escollits.\n",
    "</div>"
   ]
  },
  {
   "cell_type": "markdown",
   "metadata": {
    "id": "LF9_DgWdEMvh"
   },
   "source": [
    "<div class=\"alert alert-block alert-danger\">\n",
    "<h4>Solució:</h4>\n",
    "</div>"
   ]
  },
  {
   "cell_type": "code",
   "execution_count": 8,
   "metadata": {},
   "outputs": [],
   "source": [
    "# Escriu aquí el teu codi, fes servir tantes cel·les com creguis convenients"
   ]
  },
  {
   "cell_type": "markdown",
   "metadata": {},
   "source": [
    "<div class=\"alert alert-block alert-success\">\n",
    "<h4>Anàlisi:</h4>  \n",
    "\n",
    "Comenta dins d'aquesta cel·la la teva anàlisi crítica, fes servir tantes cel·les com creguis convenient.\n",
    "\n",
    "</div>"
   ]
  },
  {
   "cell_type": "markdown",
   "metadata": {},
   "source": [
    "### 1.6. Combinació seqüencial de classificadors de base diferent: Cascading (1 punt)"
   ]
  },
  {
   "cell_type": "markdown",
   "metadata": {
    "jp-MarkdownHeadingCollapsed": true
   },
   "source": [
    "<div class=\"alert alert-block alert-info\">\n",
    "<h4>Implementació:</h4>\n",
    "\n",
    "1. Combina en cascada els models base implementats a la secció 1.2. Tingues en compte la definició presentada en el document \"Combinació de models - PID_00296757, Jordi Casas Roma i Julià Minguillón Alfonso\" que es troba als recursos de l'assignatura. Utilitza les prediccions obtingudes a la secció 1.2 Creus que aquesta combinació de models és diversa i adequada per a Cascading?\n",
    "3. Tria un meta-classificador. Pots optar per fer servir els hiperparàmetres per defecte o realitzar un petit ajust si ho consideres necessari.\n",
    "4. Valida el teu classificador en cascada complet fent servir les dades de validació amb la mètrica F1 seleccionada. Reporta l'score.\n",
    "5. **Anàlisi Crítica:** Compara el rendiment del teu model en cascada amb el millor resultat obtingut en els passos anteriors. Va aportar Cascading una millora significativa del rendiment en aquest dataset? Vas observar algun avantatge en termes d'eficiència computacional?\n",
    "</div>"
   ]
  },
  {
   "cell_type": "markdown",
   "metadata": {
    "id": "LF9_DgWdEMvh"
   },
   "source": [
    "<div class=\"alert alert-block alert-danger\">\n",
    "<h4>Solució:</h4>\n",
    "</div>"
   ]
  },
  {
   "cell_type": "code",
   "execution_count": 8,
   "metadata": {},
   "outputs": [],
   "source": [
    "# Escriu aquí el teu codi, fes servir tantes cel·les com creguis convenients"
   ]
  },
  {
   "cell_type": "markdown",
   "metadata": {},
   "source": [
    "<div class=\"alert alert-block alert-success\">\n",
    "<h4>Anàlisi:</h4>  \n",
    "\n",
    "Comenta dins d'aquesta cel·la la teva anàlisi crítica, fes servir tantes cel·les com creguis convenient.\n",
    "\n",
    "</div>"
   ]
  },
  {
   "cell_type": "markdown",
   "metadata": {},
   "source": [
    "<div class=\"alert alert-block alert-info\">\n",
    "<h4>Implementació:</h4>\n",
    "\n",
    "5. Dissenya una estructura diferent de classificadors en cascada (ex., classificadors ràpids a la primera etapa per a descartar/classificar instàncies fàcils, i un de més complex a la segona per a les difícils).\n",
    "5. **Anàlisi Crítica:** Compara el rendiment d'aquest nou model en cascada amb els resultats obtinguts en els passos anteriors. Vas observar algun avantatge en rendiment i/o eficiència computacional?\n",
    "</div>"
   ]
  },
  {
   "cell_type": "markdown",
   "metadata": {
    "id": "LF9_DgWdEMvh"
   },
   "source": [
    "<div class=\"alert alert-block alert-danger\">\n",
    "<h4>Solució:</h4>\n",
    "</div>"
   ]
  },
  {
   "cell_type": "code",
   "execution_count": 8,
   "metadata": {},
   "outputs": [],
   "source": [
    "# Escriu aquí el teu codi, fes servir tantes cel·les com creguis convenients"
   ]
  },
  {
   "cell_type": "markdown",
   "metadata": {},
   "source": [
    "<div class=\"alert alert-block alert-success\">\n",
    "<h4>Anàlisi:</h4>  \n",
    "\n",
    "Comenta dins d'aquesta cel·la la teva anàlisi crítica, fes servir tantes cel·les com creguis convenient.\n",
    "\n",
    "</div>"
   ]
  },
  {
   "cell_type": "markdown",
   "metadata": {},
   "source": [
    "### 1.7. Comparació Global i Conclusions (1 punt)"
   ]
  },
  {
   "cell_type": "markdown",
   "metadata": {
    "jp-MarkdownHeadingCollapsed": true
   },
   "source": [
    "<div class=\"alert alert-block alert-info\">\n",
    "<h4>Implementació:</h4>\n",
    "\n",
    "1. Crea una taula resum que compari clarament el rendiment (Accuracy, F1-macro, F1-weighted) de tots els models implementats (línies base i ensembles). Si és possible i rellevant, afegeix una columna amb el temps d'ajust/entrenament aproximat.\n",
    "2. **Anàlisi Crítica Final:** Basant-te exclusivament en els resultats numèrics de la teva taula resum, quin paradigma d'ensemble learning (Bagging, Boosting, Stacking, Cascading) va demostrar el millor rendiment global per a aquest problema de classificació, especialment considerant el desequilibri de classes? Justifica la teva elecció referint-te a valors específics de la teva taula.\n",
    "3. Discuteix els trade-offs que hagis pogut observar (ex., rendiment vs. complexitat del model, rendiment vs. temps d'entrenament/tuning).\n",
    "\n",
    "**Reflexiona críticament:** Com creus que les diferents complexitats que vam buscar incloure en el dataset (no linealitat, interaccions, soroll, desequilibri, variables irrellevants) van poder influir en el rendiment relatiu dels algorismes que vas provar?&nbsp;\n",
    "</div>"
   ]
  },
  {
   "cell_type": "markdown",
   "metadata": {
    "id": "LF9_DgWdEMvh"
   },
   "source": [
    "<div class=\"alert alert-block alert-danger\">\n",
    "<h4>Solució:</h4>\n",
    "</div>"
   ]
  },
  {
   "cell_type": "code",
   "execution_count": 8,
   "metadata": {},
   "outputs": [],
   "source": [
    "# Escriu aquí el teu codi, fes servir tantes cel·les com creguis convenients"
   ]
  },
  {
   "cell_type": "markdown",
   "metadata": {},
   "source": [
    "<div class=\"alert alert-block alert-success\">\n",
    "<h4>Anàlisi:</h4>  \n",
    "\n",
    "Comenta dins d'aquesta cel·la la teva anàlisi crítica, fes servir tantes cel·les com creguis convenient.\n",
    "\n",
    "</div>"
   ]
  },
  {
   "cell_type": "markdown",
   "metadata": {
    "id": "yGStOSRTbHsO"
   },
   "source": [
    "## 2. Combinació de models de Regressió (4 punts)\n",
    "\n",
    "### 2.1. Càrrega i Anàlisi Exploratòria de Dades -EDA- (0.5 punts)"
   ]
  },
  {
   "cell_type": "markdown",
   "metadata": {
    "jp-MarkdownHeadingCollapsed": true
   },
   "source": [
    "<div class=\"alert alert-block alert-info\">\n",
    "<h4>Implementació:</h4>\n",
    "\n",
    "1. Carrega el dataset <code>dataset_regresion_pec4.csv</code>.\n",
    "2. Realitza una exploració inicial: revisa la informació general, identifica els tipus de dades, valors mancants, valors atípics, anàlisi de correlacions, etc.\n",
    "</div>"
   ]
  },
  {
   "cell_type": "markdown",
   "metadata": {
    "id": "LF9_DgWdEMvh"
   },
   "source": [
    "<div class=\"alert alert-block alert-danger\">\n",
    "<h4>Solució:</h4>\n",
    "</div>"
   ]
  },
  {
   "cell_type": "code",
   "execution_count": 8,
   "metadata": {},
   "outputs": [],
   "source": [
    "# Escriu aquí el teu codi, fes servir tantes cel·les com creguis convenients"
   ]
  },
  {
   "cell_type": "markdown",
   "metadata": {},
   "source": [
    "<div class=\"alert alert-block alert-success\">\n",
    "<h4>Anàlisi:</h4>  \n",
    "\n",
    "Comenta dins d'aquesta cel·la la teva anàlisi crítica, fes servir tantes cel·les com creguis convenient.\n",
    "\n",
    "</div>"
   ]
  },
  {
   "cell_type": "markdown",
   "metadata": {
    "jp-MarkdownHeadingCollapsed": true
   },
   "source": [
    "<div class=\"alert alert-block alert-info\">\n",
    "<h4>Implementació:</h4>\n",
    "\n",
    "3. Aplicar una estratègia de codificació adequada per poder fer servir les variables categòriques en els models. Justifica la teva elecció.\n",
    "</div>"
   ]
  },
  {
   "cell_type": "markdown",
   "metadata": {
    "id": "LF9_DgWdEMvh"
   },
   "source": [
    "<div class=\"alert alert-block alert-danger\">\n",
    "<h4>Solució:</h4>\n",
    "</div>"
   ]
  },
  {
   "cell_type": "code",
   "execution_count": 8,
   "metadata": {},
   "outputs": [],
   "source": [
    "# Escriu aquí el teu codi, fes servir tantes cel·les com creguis convenients"
   ]
  },
  {
   "cell_type": "markdown",
   "metadata": {},
   "source": [
    "<div class=\"alert alert-block alert-success\">\n",
    "<h4>Anàlisi:</h4>  \n",
    "\n",
    "Comenta dins d'aquesta cel·la la teva anàlisi crítica, fes servir tantes cel·les com creguis convenient.\n",
    "\n",
    "</div>"
   ]
  },
  {
   "cell_type": "markdown",
   "metadata": {},
   "source": [
    "<div class=\"alert alert-block alert-info\">\n",
    "<h4>Implementació:</h4>\n",
    "\n",
    "4. Visualitza la relació entre la variable objectiu i almenys dues variables predictores numèriques i una categòrica (ex., scatter plots, boxplots per categoria).\n",
    "</div>"
   ]
  },
  {
   "cell_type": "markdown",
   "metadata": {
    "id": "LF9_DgWdEMvh"
   },
   "source": [
    "<div class=\"alert alert-block alert-danger\">\n",
    "<h4>Solució:</h4>\n",
    "</div>"
   ]
  },
  {
   "cell_type": "code",
   "execution_count": 8,
   "metadata": {},
   "outputs": [],
   "source": [
    "# Escriu aquí el teu codi, fes servir tantes cel·les com creguis convenients"
   ]
  },
  {
   "cell_type": "markdown",
   "metadata": {},
   "source": [
    "<div class=\"alert alert-block alert-success\">\n",
    "<h4>Anàlisi:</h4>  \n",
    "\n",
    "Comenta dins d'aquesta cel·la la teva anàlisi crítica, fes servir tantes cel·les com creguis convenient.\n",
    "\n",
    "</div>"
   ]
  },
  {
   "cell_type": "markdown",
   "metadata": {},
   "source": [
    "<div class=\"alert alert-block alert-info\">\n",
    "<h4>Implementació:</h4>\n",
    "\n",
    "5. **Anàlisi Crítica:** Basant-te en la teva EDA (distribució del target, scatter plots), quines característiques de les dades (ex., no linealitats aparents, valors atípics, possible heteroscedasticitat) podrien suposar un desafiament per a models de regressió lineal simples? Esperaries que els ensembles basats en arbres funcionessin millor aquí? Per què?\n",
    "6. D'acord amb l'anterior, realitza el que consideris necessari per preparar les dades per efectuar el procés de regressió de forma adequada. Recorda prendre les mesures necessàries per evitar biaixos, sobreajustament, fuga de dades, etc. Justifica cadascuna de les decisions preses.\n",
    "</div>"
   ]
  },
  {
   "cell_type": "markdown",
   "metadata": {
    "id": "LF9_DgWdEMvh"
   },
   "source": [
    "<div class=\"alert alert-block alert-danger\">\n",
    "<h4>Solució:</h4>\n",
    "</div>"
   ]
  },
  {
   "cell_type": "code",
   "execution_count": 8,
   "metadata": {},
   "outputs": [],
   "source": [
    "# Escriu aquí el teu codi, fes servir tantes cel·les com creguis convenients"
   ]
  },
  {
   "cell_type": "markdown",
   "metadata": {},
   "source": [
    "<div class=\"alert alert-block alert-success\">\n",
    "<h4>Anàlisi:</h4>  \n",
    "\n",
    "Comenta dins d'aquesta cel·la la teva anàlisi crítica, fes servir tantes cel·les com creguis convenient.\n",
    "\n",
    "</div>"
   ]
  },
  {
   "cell_type": "markdown",
   "metadata": {},
   "source": [
    "### 2.2. Entrenament i Avaluació de Models Base (0.5 punts)"
   ]
  },
  {
   "cell_type": "markdown",
   "metadata": {
    "jp-MarkdownHeadingCollapsed": true
   },
   "source": [
    "<div class=\"alert alert-block alert-info\">\n",
    "<h4>Implementació:</h4>\n",
    "\n",
    "1. Implementa i avalua dos models base utilitzant 5-CV:\n",
    "   * Regressió Lineal (`LinearRegression`)\n",
    "   * Arbre de Decisió regresor (`DecisionTreeRegressor`)\n",
    "2. Reporta les mètriques mitjanes de 5-CV: RMSE (Root Mean Squared Error), MAE (Mean Absolute Error) i R².\n",
    "3. **Anàlisi Crítica:**&nbsp; Estableix aquests resultats com a línia base. Compara el rendiment d'ambdós models utilitzant els teus valors reportats de R² i RMSE. Quin va funcionar millor? Era això esperable basant-te en la teva anàlisi EDA prèvia sobre possibles no linealitats?.\n",
    "</div>"
   ]
  },
  {
   "cell_type": "markdown",
   "metadata": {
    "id": "LF9_DgWdEMvh"
   },
   "source": [
    "<div class=\"alert alert-block alert-danger\">\n",
    "<h4>Solució:</h4>\n",
    "</div>"
   ]
  },
  {
   "cell_type": "code",
   "execution_count": 8,
   "metadata": {},
   "outputs": [],
   "source": [
    "# Escriu aquí el teu codi, fes servir tantes cel·les com creguis convenients"
   ]
  },
  {
   "cell_type": "markdown",
   "metadata": {},
   "source": [
    "<div class=\"alert alert-block alert-success\">\n",
    "<h4>Anàlisi:</h4>  \n",
    "\n",
    "Comenta dins d'aquesta cel·la la teva anàlisi crítica, fes servir tantes cel·les com creguis convenient.\n",
    "\n",
    "</div>"
   ]
  },
  {
   "cell_type": "markdown",
   "metadata": {},
   "source": [
    "### 2.3. Combinació paral·lela de regresors de base similar: Bagging o Boosting (1 punt)"
   ]
  },
  {
   "cell_type": "markdown",
   "metadata": {
    "jp-MarkdownHeadingCollapsed": true
   },
   "source": [
    "<div class=\"alert alert-block alert-info\">\n",
    "<h4>Implementació:</h4>\n",
    "\n",
    "1. Selecciona i implementa un regresor combinat de base similar (`RandomForestRegressor`, `AdaBoostRegressor`, `GradientBoostingRegressor`, `XGBoost`, `LightGBM`). Justifica l'elecció.\n",
    "2. Realitza una cerca i ajust (tuning) d'hiperparàmetres clau (n_estimators, max_depth, max_features) utilitzant validació creuada (ex., GridSearchCV o RandomizedSearchCV amb 5-CV). Pots optimitzar per a `neg_root_mean_squared_error` o `r2`.\n",
    "3. Reporta els millors hiperparàmetres trobats i l'score de validació creuada obtingut amb ells.\n",
    "</div>"
   ]
  },
  {
   "cell_type": "markdown",
   "metadata": {
    "id": "LF9_DgWdEMvh"
   },
   "source": [
    "<div class=\"alert alert-block alert-danger\">\n",
    "<h4>Solució:</h4>\n",
    "</div>"
   ]
  },
  {
   "cell_type": "code",
   "execution_count": 8,
   "metadata": {},
   "outputs": [],
   "source": [
    "# Escriu aquí el teu codi, fes servir tantes cel·les com creguis convenients"
   ]
  },
  {
   "cell_type": "markdown",
   "metadata": {},
   "source": [
    "<div class=\"alert alert-block alert-success\">\n",
    "<h4>Anàlisi:</h4>  \n",
    "\n",
    "Comenta dins d'aquesta cel·la la teva anàlisi crítica, fes servir tantes cel·les com creguis convenient.\n",
    "\n",
    "</div>"
   ]
  },
  {
   "cell_type": "markdown",
   "metadata": {
    "jp-MarkdownHeadingCollapsed": true
   },
   "source": [
    "<div class=\"alert alert-block alert-info\">\n",
    "<h4>Implementació:</h4>\n",
    "\n",
    "4. Valida (amb el conjunt de dades de validació) el model final (entrenat amb els millors hiperparàmetres sobre tot el conjunt d'entrenament).\n",
    "5. Mostra les mètriques (RMSE, MAE, R²) i genera dos gràfics clau:\n",
    "   * Gràfic de Valors Predits vs. Valors Reals.\n",
    "   * Gràfic de Residus (Predits - Reals) vs. Valors Predits.\n",
    "7. **Anàlisi Crítica:** Compara el rendiment del teu Regressor optimitzat amb els models base (utilitza els teus valors de RMSE/R²). Analitza detingudament els teus gràfics de 'Predits vs Reals' i de 'Residus': S'ajusten bé els punts a la línia diagonal en el primer gràfic? Mostren els residus un patró aleatori al voltant de zero en el segon gràfic, o hi detectes alguna estructura (forma d'embut suggeridora d'heteroscedasticitat, o una corba suggeridora de no linealitat no capturada)? Relaciona les teves observacions dels residus amb les complexitats que esperes del dataset. Quines variables identifica el Regressor com les més importants?\n",
    "</div>"
   ]
  },
  {
   "cell_type": "markdown",
   "metadata": {
    "id": "LF9_DgWdEMvh"
   },
   "source": [
    "<div class=\"alert alert-block alert-danger\">\n",
    "<h4>Solució:</h4>\n",
    "</div>"
   ]
  },
  {
   "cell_type": "code",
   "execution_count": 8,
   "metadata": {},
   "outputs": [],
   "source": [
    "# Escriu aquí el teu codi, fes servir tantes cel·les com creguis convenients"
   ]
  },
  {
   "cell_type": "markdown",
   "metadata": {},
   "source": [
    "<div class=\"alert alert-block alert-success\">\n",
    "<h4>Anàlisi:</h4>  \n",
    "\n",
    "Comenta dins d'aquesta cel·la la teva anàlisi crítica, fes servir tantes cel·les com creguis convenient.\n",
    "\n",
    "</div>"
   ]
  },
  {
   "cell_type": "markdown",
   "metadata": {},
   "source": [
    "### 2.4. Combinació seqüencial de regresors de base diferent: Stacking o Cascading (1 punt)"
   ]
  },
  {
   "cell_type": "markdown",
   "metadata": {
    "jp-MarkdownHeadingCollapsed": true
   },
   "source": [
    "<div class=\"alert alert-block alert-info\">\n",
    "<h4>Implementació:</h4>\n",
    "\n",
    "1. Utilitza els models base implementats a la secció 2.2 i afegeix un altre regresor base (ex. `KNeighborsRegressor`, `SVR(kernel='linear'...)`). Argumenta la teva elecció.\n",
    "3. Tria un meta-regressor (ex., `Ridge` o `LinearRegression`).\n",
    "4. Selecciona un tipus de combinació (Stacking o Cascada). Valida el regresor complet fent servir les dades de validació amb les mètriques utilitzades anteriorment.\n",
    "5. **Anàlisi Crítica:** Compara el rendiment del teu regresor amb els resultats anteriors. Va aportar el teu regresor una millora significativa del rendiment en aquest dataset?&nbsp;\n",
    "</div>"
   ]
  },
  {
   "cell_type": "markdown",
   "metadata": {
    "id": "LF9_DgWdEMvh"
   },
   "source": [
    "<div class=\"alert alert-block alert-danger\">\n",
    "<h4>Solució:</h4>\n",
    "</div>"
   ]
  },
  {
   "cell_type": "code",
   "execution_count": 8,
   "metadata": {},
   "outputs": [],
   "source": [
    "# Escriu aquí el teu codi, fes servir tantes cel·les com creguis convenients"
   ]
  },
  {
   "cell_type": "markdown",
   "metadata": {},
   "source": [
    "<div class=\"alert alert-block alert-success\">\n",
    "<h4>Anàlisi:</h4>  \n",
    "\n",
    "Comenta dins d'aquesta cel·la la teva anàlisi crítica, fes servir tantes cel·les com creguis convenient.\n",
    "\n",
    "</div>"
   ]
  },
  {
   "cell_type": "markdown",
   "metadata": {},
   "source": [
    "### 2.5. Comparació Global i Conclusions (1 punt)"
   ]
  },
  {
   "cell_type": "markdown",
   "metadata": {
    "jp-MarkdownHeadingCollapsed": true
   },
   "source": [
    "<div class=\"alert alert-block alert-info\">\n",
    "<h4>Implementació:</h4>\n",
    "\n",
    "1. Crea una taula resum que compari clarament el rendiment (RMSE, MAE, R² mitjanes de 5-CV) de tots els models implementats (línies base i ensembles). Si és possible i rellevant, afegeix una columna amb el temps d'ajust/entrenament aproximat.\n",
    "2. **Anàlisi Crítica Final:** Basant-te exclusivament en els resultats numèrics de la teva taula resum, quin paradigma d'ensemble learning (Bagging, Boosting, Stacking, Cascading) va demostrar el millor rendiment global per a aquest problema de regressió? Justifica la teva elecció referint-te a valors específics de la teva taula.\n",
    "\n",
    "**Reflexiona críticament:** Com creus que els diferents ensembles van gestionar les complexitats introduïdes al dataset (no linealitat, interaccions, soroll, possibles valors atípics/heteroscedasticitat)?\n",
    "</div>"
   ]
  },
  {
   "cell_type": "markdown",
   "metadata": {
    "id": "LF9_DgWdEMvh"
   },
   "source": [
    "<div class=\"alert alert-block alert-danger\">\n",
    "<h4>Solució:</h4>\n",
    "</div>"
   ]
  },
  {
   "cell_type": "code",
   "execution_count": 8,
   "metadata": {},
   "outputs": [],
   "source": [
    "# Escriu aquí el teu codi, fes servir tantes cel·les com creguis convenients"
   ]
  },
  {
   "cell_type": "markdown",
   "metadata": {},
   "source": [
    "<div class=\"alert alert-block alert-success\">\n",
    "<h4>Anàlisi:</h4>  \n",
    "\n",
    "Comenta dins d'aquesta cel·la la teva anàlisi crítica, fes servir tantes cel·les com creguis convenient.\n",
    "\n",
    "</div>"
   ]
  }
 ],
 "metadata": {
  "colab": {
   "provenance": [
    {
     "file_id": "1NWibR39ET4fRuz-YAGVJwhp1X3H4Pmrg",
     "timestamp": 1731517475781
    }
   ]
  },
  "kernelspec": {
   "display_name": "Python 3 (ipykernel)",
   "language": "python",
   "name": "python3"
  },
  "language_info": {
   "codemirror_mode": {
    "name": "ipython",
    "version": 3
   },
   "file_extension": ".py",
   "mimetype": "text/x-python",
   "name": "python",
   "nbconvert_exporter": "python",
   "pygments_lexer": "ipython3",
   "version": "3.12.6"
  }
 },
 "nbformat": 4,
 "nbformat_minor": 4
}
